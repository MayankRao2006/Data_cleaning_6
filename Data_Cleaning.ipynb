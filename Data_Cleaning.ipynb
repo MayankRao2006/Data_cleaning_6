{
 "cells": [
  {
   "cell_type": "code",
   "execution_count": 1,
   "id": "53c349bb-f780-4a6e-89bf-786b5dac61cd",
   "metadata": {},
   "outputs": [],
   "source": [
    "import numpy as np\n",
    "import pandas as pd\n",
    "import matplotlib.pyplot as plt"
   ]
  },
  {
   "cell_type": "code",
   "execution_count": 2,
   "id": "d7bbf526-00e2-483c-a0a2-ca888cf25a7c",
   "metadata": {},
   "outputs": [
    {
     "data": {
      "text/html": [
       "<div>\n",
       "<style scoped>\n",
       "    .dataframe tbody tr th:only-of-type {\n",
       "        vertical-align: middle;\n",
       "    }\n",
       "\n",
       "    .dataframe tbody tr th {\n",
       "        vertical-align: top;\n",
       "    }\n",
       "\n",
       "    .dataframe thead th {\n",
       "        text-align: right;\n",
       "    }\n",
       "</style>\n",
       "<table border=\"1\" class=\"dataframe\">\n",
       "  <thead>\n",
       "    <tr style=\"text-align: right;\">\n",
       "      <th></th>\n",
       "      <th>ID</th>\n",
       "      <th>Name</th>\n",
       "      <th>Age</th>\n",
       "      <th>Department</th>\n",
       "      <th>Salary</th>\n",
       "    </tr>\n",
       "  </thead>\n",
       "  <tbody>\n",
       "    <tr>\n",
       "      <th>0</th>\n",
       "      <td>1</td>\n",
       "      <td>Jack</td>\n",
       "      <td>NaN</td>\n",
       "      <td>Sales</td>\n",
       "      <td>30,975</td>\n",
       "    </tr>\n",
       "    <tr>\n",
       "      <th>1</th>\n",
       "      <td>2</td>\n",
       "      <td>Charlie</td>\n",
       "      <td>NaN</td>\n",
       "      <td>finance</td>\n",
       "      <td>?</td>\n",
       "    </tr>\n",
       "    <tr>\n",
       "      <th>2</th>\n",
       "      <td>3</td>\n",
       "      <td>Sophia</td>\n",
       "      <td>23</td>\n",
       "      <td>MARKETING</td>\n",
       "      <td>72k</td>\n",
       "    </tr>\n",
       "    <tr>\n",
       "      <th>3</th>\n",
       "      <td>4</td>\n",
       "      <td>xander</td>\n",
       "      <td>44</td>\n",
       "      <td>HR</td>\n",
       "      <td>?</td>\n",
       "    </tr>\n",
       "    <tr>\n",
       "      <th>4</th>\n",
       "      <td>5</td>\n",
       "      <td>Eve</td>\n",
       "      <td>NaN</td>\n",
       "      <td>FINANCE</td>\n",
       "      <td>?</td>\n",
       "    </tr>\n",
       "    <tr>\n",
       "      <th>...</th>\n",
       "      <td>...</td>\n",
       "      <td>...</td>\n",
       "      <td>...</td>\n",
       "      <td>...</td>\n",
       "      <td>...</td>\n",
       "    </tr>\n",
       "    <tr>\n",
       "      <th>995</th>\n",
       "      <td>996</td>\n",
       "      <td>Paul</td>\n",
       "      <td>22yrs</td>\n",
       "      <td>Marketing</td>\n",
       "      <td>54476</td>\n",
       "    </tr>\n",
       "    <tr>\n",
       "      <th>996</th>\n",
       "      <td>997</td>\n",
       "      <td>Hannah</td>\n",
       "      <td>?</td>\n",
       "      <td>FINANCE</td>\n",
       "      <td>49943</td>\n",
       "    </tr>\n",
       "    <tr>\n",
       "      <th>997</th>\n",
       "      <td>998</td>\n",
       "      <td>Bob</td>\n",
       "      <td>47</td>\n",
       "      <td>Finance</td>\n",
       "      <td>89234</td>\n",
       "    </tr>\n",
       "    <tr>\n",
       "      <th>998</th>\n",
       "      <td>999</td>\n",
       "      <td>Zane</td>\n",
       "      <td>51</td>\n",
       "      <td>NaN</td>\n",
       "      <td>92700</td>\n",
       "    </tr>\n",
       "    <tr>\n",
       "      <th>999</th>\n",
       "      <td>1000</td>\n",
       "      <td>RAY</td>\n",
       "      <td>?</td>\n",
       "      <td>NaN</td>\n",
       "      <td>NaN</td>\n",
       "    </tr>\n",
       "  </tbody>\n",
       "</table>\n",
       "<p>1000 rows × 5 columns</p>\n",
       "</div>"
      ],
      "text/plain": [
       "       ID     Name    Age Department  Salary\n",
       "0       1     Jack    NaN      Sales  30,975\n",
       "1       2  Charlie    NaN    finance       ?\n",
       "2       3   Sophia     23  MARKETING     72k\n",
       "3       4   xander     44         HR       ?\n",
       "4       5      Eve    NaN    FINANCE       ?\n",
       "..    ...      ...    ...        ...     ...\n",
       "995   996     Paul  22yrs  Marketing   54476\n",
       "996   997   Hannah      ?    FINANCE   49943\n",
       "997   998      Bob     47    Finance   89234\n",
       "998   999     Zane     51        NaN   92700\n",
       "999  1000      RAY      ?        NaN     NaN\n",
       "\n",
       "[1000 rows x 5 columns]"
      ]
     },
     "execution_count": 2,
     "metadata": {},
     "output_type": "execute_result"
    }
   ],
   "source": [
    "DF = pd.read_csv(\"messy_employee_data_balanced_1000.csv\")\n",
    "df = DF.copy()\n",
    "df"
   ]
  },
  {
   "cell_type": "code",
   "execution_count": 3,
   "id": "90ff548a-9a88-4ac4-87df-02daa8df5501",
   "metadata": {},
   "outputs": [
    {
     "data": {
      "text/plain": [
       "ID              0\n",
       "Name            0\n",
       "Age           167\n",
       "Department     98\n",
       "Salary         93\n",
       "dtype: int64"
      ]
     },
     "execution_count": 3,
     "metadata": {},
     "output_type": "execute_result"
    }
   ],
   "source": [
    "df.isnull().sum()"
   ]
  },
  {
   "cell_type": "code",
   "execution_count": 4,
   "id": "ffde6a18-1fca-42cf-8306-a2babd721ae0",
   "metadata": {},
   "outputs": [],
   "source": [
    "df[\"Age\"] = df[\"Age\"].fillna(\"-\")"
   ]
  },
  {
   "cell_type": "code",
   "execution_count": 5,
   "id": "75306b56-1361-4504-9e2a-3f1a5c88c642",
   "metadata": {},
   "outputs": [],
   "source": [
    "df.loc[df[\"Age\"].str.lower() == \"twenty\", \"Age\"] = 20\n",
    "df[\"Age\"] = df[\"Age\"].astype(str).str.lower().str.split(\"yrs\").str[0]"
   ]
  },
  {
   "cell_type": "code",
   "execution_count": 6,
   "id": "914510b6-9123-4b37-b502-a128850175e1",
   "metadata": {},
   "outputs": [],
   "source": [
    "df.loc[df[\"Age\"].str.strip().str.lower() == \"?\", \"Age\"] = \"-\""
   ]
  },
  {
   "cell_type": "code",
   "execution_count": 7,
   "id": "f8354de3-6777-407c-865e-df6c9c1dd8d9",
   "metadata": {},
   "outputs": [
    {
     "data": {
      "text/html": [
       "<div>\n",
       "<style scoped>\n",
       "    .dataframe tbody tr th:only-of-type {\n",
       "        vertical-align: middle;\n",
       "    }\n",
       "\n",
       "    .dataframe tbody tr th {\n",
       "        vertical-align: top;\n",
       "    }\n",
       "\n",
       "    .dataframe thead th {\n",
       "        text-align: right;\n",
       "    }\n",
       "</style>\n",
       "<table border=\"1\" class=\"dataframe\">\n",
       "  <thead>\n",
       "    <tr style=\"text-align: right;\">\n",
       "      <th></th>\n",
       "      <th>ID</th>\n",
       "      <th>Name</th>\n",
       "      <th>Age</th>\n",
       "      <th>Department</th>\n",
       "      <th>Salary</th>\n",
       "    </tr>\n",
       "  </thead>\n",
       "  <tbody>\n",
       "    <tr>\n",
       "      <th>0</th>\n",
       "      <td>1</td>\n",
       "      <td>Jack</td>\n",
       "      <td>-</td>\n",
       "      <td>Sales</td>\n",
       "      <td>30,975</td>\n",
       "    </tr>\n",
       "    <tr>\n",
       "      <th>1</th>\n",
       "      <td>2</td>\n",
       "      <td>Charlie</td>\n",
       "      <td>-</td>\n",
       "      <td>finance</td>\n",
       "      <td>?</td>\n",
       "    </tr>\n",
       "    <tr>\n",
       "      <th>2</th>\n",
       "      <td>3</td>\n",
       "      <td>Sophia</td>\n",
       "      <td>23</td>\n",
       "      <td>MARKETING</td>\n",
       "      <td>72k</td>\n",
       "    </tr>\n",
       "    <tr>\n",
       "      <th>3</th>\n",
       "      <td>4</td>\n",
       "      <td>xander</td>\n",
       "      <td>44</td>\n",
       "      <td>HR</td>\n",
       "      <td>?</td>\n",
       "    </tr>\n",
       "    <tr>\n",
       "      <th>4</th>\n",
       "      <td>5</td>\n",
       "      <td>Eve</td>\n",
       "      <td>-</td>\n",
       "      <td>FINANCE</td>\n",
       "      <td>?</td>\n",
       "    </tr>\n",
       "    <tr>\n",
       "      <th>...</th>\n",
       "      <td>...</td>\n",
       "      <td>...</td>\n",
       "      <td>...</td>\n",
       "      <td>...</td>\n",
       "      <td>...</td>\n",
       "    </tr>\n",
       "    <tr>\n",
       "      <th>995</th>\n",
       "      <td>996</td>\n",
       "      <td>Paul</td>\n",
       "      <td>22</td>\n",
       "      <td>Marketing</td>\n",
       "      <td>54476</td>\n",
       "    </tr>\n",
       "    <tr>\n",
       "      <th>996</th>\n",
       "      <td>997</td>\n",
       "      <td>Hannah</td>\n",
       "      <td>-</td>\n",
       "      <td>FINANCE</td>\n",
       "      <td>49943</td>\n",
       "    </tr>\n",
       "    <tr>\n",
       "      <th>997</th>\n",
       "      <td>998</td>\n",
       "      <td>Bob</td>\n",
       "      <td>47</td>\n",
       "      <td>Finance</td>\n",
       "      <td>89234</td>\n",
       "    </tr>\n",
       "    <tr>\n",
       "      <th>998</th>\n",
       "      <td>999</td>\n",
       "      <td>Zane</td>\n",
       "      <td>51</td>\n",
       "      <td>NaN</td>\n",
       "      <td>92700</td>\n",
       "    </tr>\n",
       "    <tr>\n",
       "      <th>999</th>\n",
       "      <td>1000</td>\n",
       "      <td>RAY</td>\n",
       "      <td>-</td>\n",
       "      <td>NaN</td>\n",
       "      <td>NaN</td>\n",
       "    </tr>\n",
       "  </tbody>\n",
       "</table>\n",
       "<p>1000 rows × 5 columns</p>\n",
       "</div>"
      ],
      "text/plain": [
       "       ID     Name Age Department  Salary\n",
       "0       1     Jack   -      Sales  30,975\n",
       "1       2  Charlie   -    finance       ?\n",
       "2       3   Sophia  23  MARKETING     72k\n",
       "3       4   xander  44         HR       ?\n",
       "4       5      Eve   -    FINANCE       ?\n",
       "..    ...      ...  ..        ...     ...\n",
       "995   996     Paul  22  Marketing   54476\n",
       "996   997   Hannah   -    FINANCE   49943\n",
       "997   998      Bob  47    Finance   89234\n",
       "998   999     Zane  51        NaN   92700\n",
       "999  1000      RAY   -        NaN     NaN\n",
       "\n",
       "[1000 rows x 5 columns]"
      ]
     },
     "execution_count": 7,
     "metadata": {},
     "output_type": "execute_result"
    }
   ],
   "source": [
    "df"
   ]
  },
  {
   "cell_type": "code",
   "execution_count": 8,
   "id": "7735a643-ea7e-4194-a466-c0b259318559",
   "metadata": {},
   "outputs": [
    {
     "data": {
      "text/plain": [
       "ID             0\n",
       "Name           0\n",
       "Age            0\n",
       "Department    98\n",
       "Salary        93\n",
       "dtype: int64"
      ]
     },
     "execution_count": 8,
     "metadata": {},
     "output_type": "execute_result"
    }
   ],
   "source": [
    "df.isnull().sum()"
   ]
  },
  {
   "cell_type": "code",
   "execution_count": 9,
   "id": "a53b493e-c7e3-456a-9c06-4ea202e255c1",
   "metadata": {},
   "outputs": [],
   "source": [
    "df[\"Salary\"] = df[\"Salary\"].astype(str).str.replace(\"k\",\"000\")"
   ]
  },
  {
   "cell_type": "code",
   "execution_count": 10,
   "id": "3a448f79-80fd-4a6a-945c-6087a7309ccb",
   "metadata": {},
   "outputs": [],
   "source": [
    "df[\"Salary\"] = df[\"Salary\"].astype(str).str.strip().str.replace(\",\",\"\")\n",
    "df[\"Salary\"] = df[\"Salary\"].replace({\"?\":\"-\"})\n",
    "df[\"Salary\"] = df[\"Salary\"].replace({\"sixtyfive\":\"65000\"})\n",
    "df[\"Salary\"] = df[\"Salary\"].replace({\"nan\":\"-\"})"
   ]
  },
  {
   "cell_type": "code",
   "execution_count": 11,
   "id": "037caac4-9c28-46e0-9240-8b0568591fc3",
   "metadata": {},
   "outputs": [],
   "source": [
    "df[\"Salary\"] = df[\"Salary\"].apply(lambda x: int(x) if x != \"-\" else x)"
   ]
  },
  {
   "cell_type": "code",
   "execution_count": 12,
   "id": "69b96afa-ef8c-4a71-ad8c-a59dd62136d8",
   "metadata": {},
   "outputs": [],
   "source": [
    "df[\"Age\"] = df[\"Age\"].apply(lambda x: int(x) if x != \"-\" else x)"
   ]
  },
  {
   "cell_type": "code",
   "execution_count": 13,
   "id": "ef9ecd9e-76fc-4222-b7c0-7d2c6db34d76",
   "metadata": {},
   "outputs": [],
   "source": [
    "df[\"Department\"] = df[\"Department\"].fillna(\"-\")\n",
    "df[\"Department\"] = df[\"Department\"].str.upper()"
   ]
  },
  {
   "cell_type": "code",
   "execution_count": 14,
   "id": "0d2ee296-8de4-4688-9722-f96f8d5197e0",
   "metadata": {},
   "outputs": [],
   "source": [
    "df[\"Department\"] = df[\"Department\"].apply(lambda x: x.upper() if x in [\"IT\", \"HR\"] else x.capitalize())"
   ]
  },
  {
   "cell_type": "code",
   "execution_count": 15,
   "id": "1a33d59a-0e54-44be-8efb-8c4a83cd738e",
   "metadata": {},
   "outputs": [],
   "source": [
    "df[\"Name\"] = df[\"Name\"].str.capitalize()"
   ]
  },
  {
   "cell_type": "code",
   "execution_count": 16,
   "id": "a73fab8d-53ef-488d-bdcf-5d3dc1a47a13",
   "metadata": {},
   "outputs": [],
   "source": [
    "df.to_csv(\"Cleaned_Data.csv\", index=False)"
   ]
  },
  {
   "cell_type": "code",
   "execution_count": 17,
   "id": "7d412b70-db3a-47bb-8812-3a28b0cf0f54",
   "metadata": {},
   "outputs": [
    {
     "data": {
      "text/plain": [
       "Department\n",
       "-             98\n",
       "Finance      184\n",
       "HR           167\n",
       "IT           190\n",
       "Marketing    211\n",
       "Sales        150\n",
       "Name: Name, dtype: int64"
      ]
     },
     "execution_count": 17,
     "metadata": {},
     "output_type": "execute_result"
    }
   ],
   "source": [
    "# Now to answer some questions\n",
    "# Q.1) How many employees work in each department ?\n",
    "df.groupby(\"Department\")[\"Name\"].count()"
   ]
  },
  {
   "cell_type": "code",
   "execution_count": 123,
   "id": "69b33818-6363-4f5b-9e1e-a13ebb0a57e0",
   "metadata": {},
   "outputs": [
    {
     "data": {
      "image/png": "[encoded data removed]",
      "text/plain": [
       "<Figure size 640x480 with 1 Axes>"
      ]
     },
     "metadata": {},
     "output_type": "display_data"
    }
   ],
   "source": [
    "Department = [\"Finance\", \"HR\", \"IT\", \"Marketing\", \"Sales\"]\n",
    "Employees = [184, 167, 190, 211, 150]\n",
    "explode = [0, 0, 0, 0.15, 0]\n",
    "\n",
    "plt.pie(Employees, labels=Department, autopct=\"%1.1f%%\", explode=explode, shadow=True, startangle = 140,\n",
    "       wedgeprops = {\"edgecolor\":\"black\",\"linewidth\":2,\"linestyle\":\"--\"})\n",
    "plt.title(\"Distribution of employees in different departments\")\n",
    "plt.tight_layout()\n",
    "plt.show()"
   ]
  },
  {
   "cell_type": "code",
   "execution_count": 32,
   "id": "aa732481-06fa-4b4b-9088-df85f41b54fd",
   "metadata": {},
   "outputs": [],
   "source": [
    "df[\"Salary\"] = df[\"Salary\"].apply(lambda x: float(x) if x != \"-\" else np.nan)"
   ]
  },
  {
   "cell_type": "code",
   "execution_count": 97,
   "id": "37a9f84f-80b6-4568-a0e8-8952a3338e69",
   "metadata": {},
   "outputs": [],
   "source": [
    "name_salaries = df.groupby(\"Name\")[\"Salary\"].max()\n",
    "top10 = name_salaries.sort_values(ascending = False).head(10)"
   ]
  },
  {
   "cell_type": "code",
   "execution_count": 134,
   "id": "d8a4d60d-e59a-4f72-9386-17247ea374ee",
   "metadata": {},
   "outputs": [
    {
     "data": {
      "image/png": "[encoded data removed]",
      "text/plain": [
       "<Figure size 800x600 with 1 Axes>"
      ]
     },
     "metadata": {},
     "output_type": "display_data"
    }
   ],
   "source": [
    "names = top10.index\n",
    "salaries = top10.to_list()\n",
    "plt.figure(figsize=(8, 6))\n",
    "plt.barh(names, salaries, color=\"red\")\n",
    "plt.title(\"Comparision of the highest salary earners\")\n",
    "plt.xlabel(\"Salaries\")\n",
    "plt.ylabel(\"Names\")\n",
    "plt.xlim(96000, 100000)\n",
    "plt.tight_layout()\n",
    "plt.show()"
   ]
  }
 ],
 "metadata": {
  "kernelspec": {
   "display_name": "Python 3 (ipykernel)",
   "language": "python",
   "name": "python3"
  },
  "language_info": {
   "codemirror_mode": {
    "name": "ipython",
    "version": 3
   },
   "file_extension": ".py",
   "mimetype": "text/x-python",
   "name": "python",
   "nbconvert_exporter": "python",
   "pygments_lexer": "ipython3",
   "version": "3.12.7"
  }
 },
 "nbformat": 4,
 "nbformat_minor": 5
}
